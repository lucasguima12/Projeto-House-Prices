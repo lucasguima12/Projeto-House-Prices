{
 "cells": [
  {
   "cell_type": "code",
   "execution_count": 1,
   "id": "ea569e9e",
   "metadata": {},
   "outputs": [],
   "source": [
    "import pandas as pd\n",
    "import numpy as np\n",
    "from sklearn.model_selection import train_test_split\n",
    "from sklearn.preprocessing import MinMaxScaler\n",
    "from tensorflow.keras.models import Sequential\n",
    "from tensorflow.keras.layers import Dense\n",
    "from sklearn.metrics import mean_absolute_error, mean_squared_error"
   ]
  },
  {
   "cell_type": "code",
   "execution_count": 2,
   "id": "1a7a7ba8",
   "metadata": {},
   "outputs": [],
   "source": [
    "train_processed_path = r'C:\\Users\\cardo\\Projeto-House-Prices\\data\\processed\\train_processed.csv'\n",
    "test_processed_path = r'C:\\Users\\cardo\\Projeto-House-Prices\\data\\processed\\test_processed.csv'"
   ]
  },
  {
   "cell_type": "code",
   "execution_count": 3,
   "id": "06fff0b7",
   "metadata": {},
   "outputs": [],
   "source": [
    "df_train_processed = pd.read_csv(train_processed_path)\n",
    "df_test_processed = pd.read_csv(test_processed_path)"
   ]
  },
  {
   "cell_type": "code",
   "execution_count": 4,
   "id": "57819961",
   "metadata": {},
   "outputs": [],
   "source": [
    "X = df_train_processed.drop('SalePrice', axis=1)\n",
    "y = df_train_processed['SalePrice']"
   ]
  },
  {
   "cell_type": "code",
   "execution_count": 5,
   "id": "4c17034e",
   "metadata": {},
   "outputs": [],
   "source": [
    "scaler_X = MinMaxScaler()\n",
    "scaler_y = MinMaxScaler()\n",
    "X_normalized = scaler_X.fit_transform(X)\n",
    "y_normalized = scaler_y.fit_transform(y.values.reshape(-1, 1))\n",
    "y_normalized = y_normalized.ravel()\n",
    "\n",
    "# dividing data in test and train\n",
    "\n",
    "X_train, X_test, y_train, y_test = train_test_split(X_normalized, y_normalized, test_size=0.2, random_state=42)"
   ]
  },
  {
   "cell_type": "code",
   "execution_count": 6,
   "id": "c7caded6",
   "metadata": {
    "scrolled": true
   },
   "outputs": [
    {
     "name": "stdout",
     "output_type": "stream",
     "text": [
      "Epoch 1/40\n",
      "29/29 [==============================] - 1s 6ms/step - loss: 0.0121 - val_loss: 0.0049\n",
      "Epoch 2/40\n",
      "29/29 [==============================] - 0s 2ms/step - loss: 0.0055 - val_loss: 0.0031\n",
      "Epoch 3/40\n",
      "29/29 [==============================] - 0s 2ms/step - loss: 0.0040 - val_loss: 0.0026\n",
      "Epoch 4/40\n",
      "29/29 [==============================] - 0s 2ms/step - loss: 0.0034 - val_loss: 0.0020\n",
      "Epoch 5/40\n",
      "29/29 [==============================] - 0s 2ms/step - loss: 0.0030 - val_loss: 0.0020\n",
      "Epoch 6/40\n",
      "29/29 [==============================] - 0s 2ms/step - loss: 0.0029 - val_loss: 0.0018\n",
      "Epoch 7/40\n",
      "29/29 [==============================] - 0s 2ms/step - loss: 0.0027 - val_loss: 0.0018\n",
      "Epoch 8/40\n",
      "29/29 [==============================] - 0s 2ms/step - loss: 0.0026 - val_loss: 0.0020\n",
      "Epoch 9/40\n",
      "29/29 [==============================] - 0s 2ms/step - loss: 0.0024 - val_loss: 0.0020\n",
      "Epoch 10/40\n",
      "29/29 [==============================] - 0s 2ms/step - loss: 0.0023 - val_loss: 0.0017\n",
      "Epoch 11/40\n",
      "29/29 [==============================] - 0s 2ms/step - loss: 0.0022 - val_loss: 0.0017\n",
      "Epoch 12/40\n",
      "29/29 [==============================] - 0s 2ms/step - loss: 0.0022 - val_loss: 0.0016\n",
      "Epoch 13/40\n",
      "29/29 [==============================] - 0s 2ms/step - loss: 0.0021 - val_loss: 0.0017\n",
      "Epoch 14/40\n",
      "29/29 [==============================] - 0s 2ms/step - loss: 0.0021 - val_loss: 0.0017\n",
      "Epoch 15/40\n",
      "29/29 [==============================] - 0s 2ms/step - loss: 0.0020 - val_loss: 0.0016\n",
      "Epoch 16/40\n",
      "29/29 [==============================] - 0s 2ms/step - loss: 0.0018 - val_loss: 0.0016\n",
      "Epoch 17/40\n",
      "29/29 [==============================] - 0s 5ms/step - loss: 0.0017 - val_loss: 0.0017\n",
      "Epoch 18/40\n",
      "29/29 [==============================] - 0s 2ms/step - loss: 0.0017 - val_loss: 0.0018\n",
      "Epoch 19/40\n",
      "29/29 [==============================] - 0s 2ms/step - loss: 0.0018 - val_loss: 0.0016\n",
      "Epoch 20/40\n",
      "29/29 [==============================] - 0s 2ms/step - loss: 0.0016 - val_loss: 0.0016\n",
      "Epoch 21/40\n",
      "29/29 [==============================] - 0s 2ms/step - loss: 0.0017 - val_loss: 0.0017\n",
      "Epoch 22/40\n",
      "29/29 [==============================] - 0s 2ms/step - loss: 0.0015 - val_loss: 0.0016\n",
      "Epoch 23/40\n",
      "29/29 [==============================] - 0s 2ms/step - loss: 0.0016 - val_loss: 0.0017\n",
      "Epoch 24/40\n",
      "29/29 [==============================] - 0s 2ms/step - loss: 0.0014 - val_loss: 0.0019\n",
      "Epoch 25/40\n",
      "29/29 [==============================] - 0s 2ms/step - loss: 0.0015 - val_loss: 0.0017\n",
      "Epoch 26/40\n",
      "29/29 [==============================] - 0s 2ms/step - loss: 0.0014 - val_loss: 0.0016\n",
      "Epoch 27/40\n",
      "29/29 [==============================] - 0s 2ms/step - loss: 0.0013 - val_loss: 0.0018\n",
      "Epoch 28/40\n",
      "29/29 [==============================] - 0s 2ms/step - loss: 0.0013 - val_loss: 0.0016\n",
      "Epoch 29/40\n",
      "29/29 [==============================] - 0s 2ms/step - loss: 0.0012 - val_loss: 0.0016\n",
      "Epoch 30/40\n",
      "29/29 [==============================] - 0s 2ms/step - loss: 0.0013 - val_loss: 0.0017\n",
      "Epoch 31/40\n",
      "29/29 [==============================] - 0s 2ms/step - loss: 0.0013 - val_loss: 0.0016\n",
      "Epoch 32/40\n",
      "29/29 [==============================] - 0s 2ms/step - loss: 0.0012 - val_loss: 0.0017\n",
      "Epoch 33/40\n",
      "29/29 [==============================] - 0s 2ms/step - loss: 0.0013 - val_loss: 0.0020\n",
      "Epoch 34/40\n",
      "29/29 [==============================] - 0s 2ms/step - loss: 0.0012 - val_loss: 0.0017\n",
      "Epoch 35/40\n",
      "29/29 [==============================] - 0s 2ms/step - loss: 0.0010 - val_loss: 0.0018\n",
      "Epoch 36/40\n",
      "29/29 [==============================] - 0s 2ms/step - loss: 0.0011 - val_loss: 0.0017\n",
      "Epoch 37/40\n",
      "29/29 [==============================] - 0s 2ms/step - loss: 0.0010 - val_loss: 0.0015\n",
      "Epoch 38/40\n",
      "29/29 [==============================] - 0s 2ms/step - loss: 0.0010 - val_loss: 0.0021\n",
      "Epoch 39/40\n",
      "29/29 [==============================] - 0s 2ms/step - loss: 9.7299e-04 - val_loss: 0.0015\n",
      "Epoch 40/40\n",
      "29/29 [==============================] - 0s 2ms/step - loss: 9.5578e-04 - val_loss: 0.0017\n"
     ]
    },
    {
     "data": {
      "text/plain": [
       "<keras.callbacks.History at 0x2a6151a10f0>"
      ]
     },
     "execution_count": 6,
     "metadata": {},
     "output_type": "execute_result"
    }
   ],
   "source": [
    "# Definindo o modelo\n",
    "model = Sequential()\n",
    "model.add(Dense(64, activation='relu', input_shape=(X_train.shape[1],)))\n",
    "model.add(Dense(32, activation='relu'))\n",
    "model.add(Dense(1))\n",
    "\n",
    "# Compilando o modelo\n",
    "model.compile(loss='mean_squared_error', optimizer='adam')\n",
    "\n",
    "# Treinando o modelo\n",
    "model.fit(X_train, y_train, epochs=40, batch_size=32, validation_split=0.2)"
   ]
  },
  {
   "cell_type": "code",
   "execution_count": 7,
   "id": "e0cfcff3",
   "metadata": {},
   "outputs": [
    {
     "name": "stdout",
     "output_type": "stream",
     "text": [
      "10/10 [==============================] - 0s 886us/step\n",
      "MAE:  0.032209817130264586\n",
      "MSE:  0.002020757754248729\n",
      "RMSE:  0.044952839223443154\n"
     ]
    }
   ],
   "source": [
    "y_pred = model.predict(X_test)\n",
    "\n",
    "# Calculando as métricas\n",
    "mae = mean_absolute_error(y_test, y_pred)\n",
    "mse = mean_squared_error(y_test, y_pred)\n",
    "rmse = np.sqrt(mse)\n",
    "\n",
    "print('MAE: ', mae)\n",
    "print('MSE: ', mse)\n",
    "print('RMSE: ', rmse)"
   ]
  },
  {
   "cell_type": "code",
   "execution_count": 8,
   "id": "b0f0fc66",
   "metadata": {},
   "outputs": [],
   "source": [
    "X_test_normalized = scaler_X.transform(df_test_processed.drop('Id',axis = 1))"
   ]
  },
  {
   "cell_type": "code",
   "execution_count": 9,
   "id": "1ae5f8bc",
   "metadata": {},
   "outputs": [
    {
     "name": "stdout",
     "output_type": "stream",
     "text": [
      "46/46 [==============================] - 0s 681us/step\n"
     ]
    }
   ],
   "source": [
    "predictions_normalized = model.predict(X_test_normalized)\n",
    "predictions_denormalized = scaler_y.inverse_transform(predictions_normalized.reshape(-1, 1))"
   ]
  },
  {
   "cell_type": "code",
   "execution_count": 10,
   "id": "b99c20ce",
   "metadata": {},
   "outputs": [],
   "source": [
    "df_results = pd.DataFrame({'Id': df_test_processed['Id'], 'SalePrice': predictions_denormalized.flatten()})"
   ]
  },
  {
   "cell_type": "code",
   "execution_count": 12,
   "id": "104909c8",
   "metadata": {},
   "outputs": [],
   "source": [
    "df_results.to_csv(r'C:\\\\Users\\cardo\\Projeto-House-Prices\\data\\final\\keras_model.csv', index = False)"
   ]
  },
  {
   "cell_type": "code",
   "execution_count": 13,
   "id": "707659fb",
   "metadata": {},
   "outputs": [
    {
     "data": {
      "text/html": [
       "<div>\n",
       "<style scoped>\n",
       "    .dataframe tbody tr th:only-of-type {\n",
       "        vertical-align: middle;\n",
       "    }\n",
       "\n",
       "    .dataframe tbody tr th {\n",
       "        vertical-align: top;\n",
       "    }\n",
       "\n",
       "    .dataframe thead th {\n",
       "        text-align: right;\n",
       "    }\n",
       "</style>\n",
       "<table border=\"1\" class=\"dataframe\">\n",
       "  <thead>\n",
       "    <tr style=\"text-align: right;\">\n",
       "      <th></th>\n",
       "      <th>Id</th>\n",
       "      <th>SalePrice</th>\n",
       "    </tr>\n",
       "  </thead>\n",
       "  <tbody>\n",
       "    <tr>\n",
       "      <th>0</th>\n",
       "      <td>1461</td>\n",
       "      <td>98895.468750</td>\n",
       "    </tr>\n",
       "    <tr>\n",
       "      <th>1</th>\n",
       "      <td>1462</td>\n",
       "      <td>136368.593750</td>\n",
       "    </tr>\n",
       "    <tr>\n",
       "      <th>2</th>\n",
       "      <td>1463</td>\n",
       "      <td>142711.015625</td>\n",
       "    </tr>\n",
       "    <tr>\n",
       "      <th>3</th>\n",
       "      <td>1464</td>\n",
       "      <td>155002.828125</td>\n",
       "    </tr>\n",
       "    <tr>\n",
       "      <th>4</th>\n",
       "      <td>1465</td>\n",
       "      <td>155175.093750</td>\n",
       "    </tr>\n",
       "    <tr>\n",
       "      <th>...</th>\n",
       "      <td>...</td>\n",
       "      <td>...</td>\n",
       "    </tr>\n",
       "    <tr>\n",
       "      <th>1454</th>\n",
       "      <td>2915</td>\n",
       "      <td>46557.554688</td>\n",
       "    </tr>\n",
       "    <tr>\n",
       "      <th>1455</th>\n",
       "      <td>2916</td>\n",
       "      <td>74016.164062</td>\n",
       "    </tr>\n",
       "    <tr>\n",
       "      <th>1456</th>\n",
       "      <td>2917</td>\n",
       "      <td>138270.828125</td>\n",
       "    </tr>\n",
       "    <tr>\n",
       "      <th>1457</th>\n",
       "      <td>2918</td>\n",
       "      <td>109795.296875</td>\n",
       "    </tr>\n",
       "    <tr>\n",
       "      <th>1458</th>\n",
       "      <td>2919</td>\n",
       "      <td>231457.359375</td>\n",
       "    </tr>\n",
       "  </tbody>\n",
       "</table>\n",
       "<p>1459 rows × 2 columns</p>\n",
       "</div>"
      ],
      "text/plain": [
       "        Id      SalePrice\n",
       "0     1461   98895.468750\n",
       "1     1462  136368.593750\n",
       "2     1463  142711.015625\n",
       "3     1464  155002.828125\n",
       "4     1465  155175.093750\n",
       "...    ...            ...\n",
       "1454  2915   46557.554688\n",
       "1455  2916   74016.164062\n",
       "1456  2917  138270.828125\n",
       "1457  2918  109795.296875\n",
       "1458  2919  231457.359375\n",
       "\n",
       "[1459 rows x 2 columns]"
      ]
     },
     "execution_count": 13,
     "metadata": {},
     "output_type": "execute_result"
    }
   ],
   "source": [
    "df_results"
   ]
  },
  {
   "cell_type": "code",
   "execution_count": 14,
   "id": "0fc6b95f",
   "metadata": {},
   "outputs": [
    {
     "data": {
      "text/plain": [
       "['C:\\\\\\\\Users\\\\cardo\\\\Projeto-House-Prices\\\\models\\\\keras_model.pkl']"
      ]
     },
     "execution_count": 14,
     "metadata": {},
     "output_type": "execute_result"
    }
   ],
   "source": [
    "# Saving model\n",
    "\n",
    "import joblib\n",
    "\n",
    "joblib.dump(model, r'C:\\\\Users\\cardo\\Projeto-House-Prices\\models\\keras_model.pkl')"
   ]
  },
  {
   "cell_type": "code",
   "execution_count": null,
   "id": "2c8960eb",
   "metadata": {},
   "outputs": [],
   "source": []
  }
 ],
 "metadata": {
  "kernelspec": {
   "display_name": "Python 3 (ipykernel)",
   "language": "python",
   "name": "python3"
  },
  "language_info": {
   "codemirror_mode": {
    "name": "ipython",
    "version": 3
   },
   "file_extension": ".py",
   "mimetype": "text/x-python",
   "name": "python",
   "nbconvert_exporter": "python",
   "pygments_lexer": "ipython3",
   "version": "3.10.9"
  }
 },
 "nbformat": 4,
 "nbformat_minor": 5
}
