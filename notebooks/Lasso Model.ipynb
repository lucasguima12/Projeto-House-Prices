{
 "cells": [
  {
   "cell_type": "code",
   "execution_count": 1,
   "id": "6f30458f",
   "metadata": {},
   "outputs": [],
   "source": [
    "import pandas as pd\n",
    "from sklearn.linear_model import Lasso\n",
    "from sklearn.model_selection import train_test_split\n",
    "from sklearn.preprocessing import MinMaxScaler\n",
    "from sklearn.metrics import mean_squared_error\n",
    "from sklearn.model_selection import GridSearchCV\n",
    "import numpy as np"
   ]
  },
  {
   "cell_type": "code",
   "execution_count": 2,
   "id": "fa6a3708",
   "metadata": {},
   "outputs": [],
   "source": [
    "train_processed_path = r'C:\\Users\\cardo\\Projeto House Prices\\data\\processed\\train_processed.csv'\n",
    "test_processed_path = r'C:\\Users\\cardo\\Projeto House Prices\\data\\processed\\test_processed.csv'"
   ]
  },
  {
   "cell_type": "code",
   "execution_count": 9,
   "id": "9ded7c14",
   "metadata": {},
   "outputs": [],
   "source": [
    "df_train_processed = pd.read_csv(train_processed_path)\n",
    "df_test_processed = pd.read_csv(test_processed_path)"
   ]
  },
  {
   "cell_type": "code",
   "execution_count": 10,
   "id": "541d4379",
   "metadata": {},
   "outputs": [],
   "source": [
    "X = df_train_processed.drop('SalePrice', axis=1)\n",
    "y = df_train_processed['SalePrice']"
   ]
  },
  {
   "cell_type": "code",
   "execution_count": 23,
   "id": "070fbc55",
   "metadata": {},
   "outputs": [],
   "source": [
    "scaler_X = MinMaxScaler()\n",
    "scaler_y = MinMaxScaler()\n",
    "X_normalized = scaler_X.fit_transform(X)\n",
    "y_normalized = scaler_y.fit_transform(y.values.reshape(-1, 1))\n",
    "y_normalized = y_normalized.ravel()\n",
    "\n",
    "# dividing data in test and train\n",
    "\n",
    "X_train, X_test, y_train, y_test = train_test_split(X_normalized, y_normalized, test_size=0.2, random_state=42)"
   ]
  },
  {
   "cell_type": "markdown",
   "id": "6dfeb7c5",
   "metadata": {},
   "source": [
    "### Finding best alpha value"
   ]
  },
  {
   "cell_type": "code",
   "execution_count": 33,
   "id": "ec17e1db",
   "metadata": {},
   "outputs": [
    {
     "name": "stdout",
     "output_type": "stream",
     "text": [
      "Best alpha Value:  {'alpha': 0.0001}\n",
      "Best Score:  0.8119032143416108\n"
     ]
    }
   ],
   "source": [
    "param_grid = {'alpha': [0.001, 0.01, 0.1, 1, 10, 100, 0.0001, 0.00001, 0.00001]}\n",
    "\n",
    "lasso = Lasso()\n",
    "\n",
    "grid_search = GridSearchCV(lasso, param_grid, cv=5)\n",
    "grid_search.fit(X_normalized, y_normalized)\n",
    "\n",
    "print(\"Best alpha Value: \", grid_search.best_params_)\n",
    "print(\"Best Score: \", grid_search.best_score_)"
   ]
  },
  {
   "cell_type": "code",
   "execution_count": 34,
   "id": "0cf6bba9",
   "metadata": {},
   "outputs": [
    {
     "name": "stdout",
     "output_type": "stream",
     "text": [
      "Mean Square Error: 0.0016329492243360442\n",
      "Root Mean Square Error: 0.040409766447432535\n"
     ]
    }
   ],
   "source": [
    "lasso = Lasso(alpha=0.0001)\n",
    "\n",
    "# training the model\n",
    "\n",
    "lasso.fit(X_train, y_train)\n",
    "\n",
    "# predictions\n",
    "\n",
    "y_pred = lasso.predict(X_test)\n",
    "\n",
    "# model performance\n",
    "\n",
    "mse = mean_squared_error(y_test, y_pred)\n",
    "print('Mean Square Error:', mse)\n",
    "rmse = np.sqrt(mse)\n",
    "print('Root Mean Square Error:', rmse)"
   ]
  },
  {
   "cell_type": "code",
   "execution_count": 39,
   "id": "39377425",
   "metadata": {},
   "outputs": [],
   "source": [
    "X_test_normalized = scaler_X.transform(df_test_processed.drop('Id',axis = 1))"
   ]
  },
  {
   "cell_type": "code",
   "execution_count": 41,
   "id": "661869de",
   "metadata": {},
   "outputs": [],
   "source": [
    "predictions_normalized = lasso.predict(X_test_normalized)\n",
    "predictions_denormalized = scaler_y.inverse_transform(predictions_normalized.reshape(-1, 1))"
   ]
  },
  {
   "cell_type": "code",
   "execution_count": 42,
   "id": "7a1abf74",
   "metadata": {},
   "outputs": [],
   "source": [
    "df_results = pd.DataFrame({'Id': df_test_processed['Id'], 'SalePrice': predictions_denormalized.flatten()})"
   ]
  },
  {
   "cell_type": "code",
   "execution_count": 45,
   "id": "a96a04b8",
   "metadata": {},
   "outputs": [],
   "source": [
    "df_results.to_csv(r'C:\\\\Users\\cardo\\Projeto House Prices\\data\\final\\lasso_model.csv', index = False)"
   ]
  },
  {
   "cell_type": "code",
   "execution_count": 44,
   "id": "620750a9",
   "metadata": {},
   "outputs": [
    {
     "data": {
      "text/html": [
       "<div>\n",
       "<style scoped>\n",
       "    .dataframe tbody tr th:only-of-type {\n",
       "        vertical-align: middle;\n",
       "    }\n",
       "\n",
       "    .dataframe tbody tr th {\n",
       "        vertical-align: top;\n",
       "    }\n",
       "\n",
       "    .dataframe thead th {\n",
       "        text-align: right;\n",
       "    }\n",
       "</style>\n",
       "<table border=\"1\" class=\"dataframe\">\n",
       "  <thead>\n",
       "    <tr style=\"text-align: right;\">\n",
       "      <th></th>\n",
       "      <th>Id</th>\n",
       "      <th>SalePrice</th>\n",
       "    </tr>\n",
       "  </thead>\n",
       "  <tbody>\n",
       "    <tr>\n",
       "      <th>0</th>\n",
       "      <td>1461</td>\n",
       "      <td>104864.564607</td>\n",
       "    </tr>\n",
       "    <tr>\n",
       "      <th>1</th>\n",
       "      <td>1462</td>\n",
       "      <td>160909.052812</td>\n",
       "    </tr>\n",
       "    <tr>\n",
       "      <th>2</th>\n",
       "      <td>1463</td>\n",
       "      <td>173493.179092</td>\n",
       "    </tr>\n",
       "    <tr>\n",
       "      <th>3</th>\n",
       "      <td>1464</td>\n",
       "      <td>191085.723794</td>\n",
       "    </tr>\n",
       "    <tr>\n",
       "      <th>4</th>\n",
       "      <td>1465</td>\n",
       "      <td>194595.894494</td>\n",
       "    </tr>\n",
       "    <tr>\n",
       "      <th>...</th>\n",
       "      <td>...</td>\n",
       "      <td>...</td>\n",
       "    </tr>\n",
       "    <tr>\n",
       "      <th>1454</th>\n",
       "      <td>2915</td>\n",
       "      <td>67023.044350</td>\n",
       "    </tr>\n",
       "    <tr>\n",
       "      <th>1455</th>\n",
       "      <td>2916</td>\n",
       "      <td>71573.066811</td>\n",
       "    </tr>\n",
       "    <tr>\n",
       "      <th>1456</th>\n",
       "      <td>2917</td>\n",
       "      <td>156997.791803</td>\n",
       "    </tr>\n",
       "    <tr>\n",
       "      <th>1457</th>\n",
       "      <td>2918</td>\n",
       "      <td>124799.952523</td>\n",
       "    </tr>\n",
       "    <tr>\n",
       "      <th>1458</th>\n",
       "      <td>2919</td>\n",
       "      <td>246355.710962</td>\n",
       "    </tr>\n",
       "  </tbody>\n",
       "</table>\n",
       "<p>1459 rows × 2 columns</p>\n",
       "</div>"
      ],
      "text/plain": [
       "        Id      SalePrice\n",
       "0     1461  104864.564607\n",
       "1     1462  160909.052812\n",
       "2     1463  173493.179092\n",
       "3     1464  191085.723794\n",
       "4     1465  194595.894494\n",
       "...    ...            ...\n",
       "1454  2915   67023.044350\n",
       "1455  2916   71573.066811\n",
       "1456  2917  156997.791803\n",
       "1457  2918  124799.952523\n",
       "1458  2919  246355.710962\n",
       "\n",
       "[1459 rows x 2 columns]"
      ]
     },
     "execution_count": 44,
     "metadata": {},
     "output_type": "execute_result"
    }
   ],
   "source": [
    "df_results"
   ]
  },
  {
   "cell_type": "code",
   "execution_count": 38,
   "id": "b189eb31",
   "metadata": {},
   "outputs": [
    {
     "data": {
      "text/plain": [
       "['C:\\\\\\\\Users\\\\cardo\\\\Projeto House Prices\\\\models\\\\lasso_model.pkl']"
      ]
     },
     "execution_count": 38,
     "metadata": {},
     "output_type": "execute_result"
    }
   ],
   "source": [
    "# Saving model\n",
    "\n",
    "import joblib\n",
    "\n",
    "joblib.dump(lasso, r'C:\\\\Users\\cardo\\Projeto House Prices\\models\\lasso_model.pkl')"
   ]
  }
 ],
 "metadata": {
  "kernelspec": {
   "display_name": "Python 3 (ipykernel)",
   "language": "python",
   "name": "python3"
  },
  "language_info": {
   "codemirror_mode": {
    "name": "ipython",
    "version": 3
   },
   "file_extension": ".py",
   "mimetype": "text/x-python",
   "name": "python",
   "nbconvert_exporter": "python",
   "pygments_lexer": "ipython3",
   "version": "3.10.9"
  }
 },
 "nbformat": 4,
 "nbformat_minor": 5
}
