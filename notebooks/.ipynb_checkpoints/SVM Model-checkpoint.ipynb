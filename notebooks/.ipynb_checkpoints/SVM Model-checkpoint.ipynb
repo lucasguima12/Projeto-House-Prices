{
 "cells": [
  {
   "cell_type": "code",
   "execution_count": 5,
   "id": "bbfb4e6a",
   "metadata": {},
   "outputs": [],
   "source": [
    "from sklearn import svm\n",
    "from sklearn.model_selection import train_test_split\n",
    "from sklearn.metrics import accuracy_score\n",
    "import pandas as pd\n",
    "from sklearn.model_selection import train_test_split\n",
    "from sklearn.preprocessing import MinMaxScaler\n",
    "from sklearn.metrics import mean_squared_error\n",
    "import numpy as np"
   ]
  },
  {
   "cell_type": "code",
   "execution_count": 8,
   "id": "16d5f103",
   "metadata": {},
   "outputs": [],
   "source": [
    "train_processed_path = r'C:\\Users\\cardo\\Projeto House Prices\\data\\processed\\train_processed.csv'\n",
    "test_processed_path = r'C:\\Users\\cardo\\Projeto House Prices\\data\\processed\\test_processed.csv'"
   ]
  },
  {
   "cell_type": "code",
   "execution_count": 9,
   "id": "fad1e0a5",
   "metadata": {},
   "outputs": [],
   "source": [
    "df_train_processed = pd.read_csv(train_processed_path)\n",
    "df_test_processed = pd.read_csv(test_processed_path)"
   ]
  },
  {
   "cell_type": "code",
   "execution_count": 10,
   "id": "2b36b269",
   "metadata": {},
   "outputs": [],
   "source": [
    "X = df_train_processed.drop('SalePrice', axis=1)\n",
    "y = df_train_processed['SalePrice']"
   ]
  },
  {
   "cell_type": "code",
   "execution_count": 11,
   "id": "619dac02",
   "metadata": {},
   "outputs": [],
   "source": [
    "scaler_X = MinMaxScaler()\n",
    "scaler_y = MinMaxScaler()\n",
    "X_normalized = scaler_X.fit_transform(X)\n",
    "y_normalized = scaler_y.fit_transform(y.values.reshape(-1, 1))\n",
    "y_normalized = y_normalized.ravel()\n",
    "\n",
    "# dividing data in test and train\n",
    "\n",
    "X_train, X_test, y_train, y_test = train_test_split(X_normalized, y_normalized, test_size=0.2, random_state=42)"
   ]
  },
  {
   "cell_type": "code",
   "execution_count": 21,
   "id": "f61f51b9",
   "metadata": {},
   "outputs": [
    {
     "name": "stdout",
     "output_type": "stream",
     "text": [
      "Mean Square Error: 0.00298008324945374\n",
      "Root Mean Square Error: 0.05459013875649832\n"
     ]
    }
   ],
   "source": [
    "# Crie o modelo SVM\n",
    "model = svm.SVR(kernel='linear')\n",
    "\n",
    "# Treine o modelo com os dados de treinamento\n",
    "model.fit(X_train, y_train)\n",
    "\n",
    "# Faça previsões no conjunto de teste\n",
    "y_pred = model.predict(X_test)\n",
    "\n",
    "mse = mean_squared_error(y_test, y_pred)\n",
    "print('Mean Square Error:', mse)\n",
    "rmse = np.sqrt(mse)\n",
    "print('Root Mean Square Error:', rmse)"
   ]
  },
  {
   "cell_type": "code",
   "execution_count": 22,
   "id": "752f3f99",
   "metadata": {},
   "outputs": [
    {
     "data": {
      "text/plain": [
       "['C:\\\\\\\\Users\\\\cardo\\\\Projeto House Prices\\\\models\\\\svm_model.pkl']"
      ]
     },
     "execution_count": 22,
     "metadata": {},
     "output_type": "execute_result"
    }
   ],
   "source": [
    "# Saving model\n",
    "\n",
    "import joblib\n",
    "\n",
    "joblib.dump(model, r'C:\\\\Users\\cardo\\Projeto House Prices\\models\\svm_model.pkl')"
   ]
  },
  {
   "cell_type": "code",
   "execution_count": null,
   "id": "1437b1e3",
   "metadata": {},
   "outputs": [],
   "source": []
  }
 ],
 "metadata": {
  "kernelspec": {
   "display_name": "Python 3 (ipykernel)",
   "language": "python",
   "name": "python3"
  },
  "language_info": {
   "codemirror_mode": {
    "name": "ipython",
    "version": 3
   },
   "file_extension": ".py",
   "mimetype": "text/x-python",
   "name": "python",
   "nbconvert_exporter": "python",
   "pygments_lexer": "ipython3",
   "version": "3.10.9"
  }
 },
 "nbformat": 4,
 "nbformat_minor": 5
}
