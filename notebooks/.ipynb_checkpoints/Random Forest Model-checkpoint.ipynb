{
 "cells": [
  {
   "cell_type": "code",
   "execution_count": 2,
   "id": "d64f8305",
   "metadata": {},
   "outputs": [],
   "source": [
    "import pandas as pd\n",
    "import numpy as np\n",
    "from sklearn.model_selection import train_test_split\n",
    "from sklearn.preprocessing import MinMaxScaler\n",
    "from sklearn.ensemble import RandomForestRegressor\n",
    "from sklearn.metrics import mean_absolute_error, mean_squared_error, r2_score"
   ]
  },
  {
   "cell_type": "code",
   "execution_count": 3,
   "id": "ac029cff",
   "metadata": {},
   "outputs": [],
   "source": [
    "train_processed_path = r'C:\\Users\\cardo\\Projeto House Prices\\data\\processed\\train_processed.csv'\n",
    "test_processed_path = r'C:\\Users\\cardo\\Projeto House Prices\\data\\processed\\test_processed.csv'"
   ]
  },
  {
   "cell_type": "code",
   "execution_count": 4,
   "id": "9eb3433d",
   "metadata": {},
   "outputs": [],
   "source": [
    "df_train_processed = pd.read_csv(train_processed_path)\n",
    "df_test_processed = pd.read_csv(test_processed_path)"
   ]
  },
  {
   "cell_type": "code",
   "execution_count": 5,
   "id": "c375ebbc",
   "metadata": {},
   "outputs": [],
   "source": [
    "X = df_train_processed.drop('SalePrice', axis=1)\n",
    "y = df_train_processed['SalePrice']"
   ]
  },
  {
   "cell_type": "code",
   "execution_count": 6,
   "id": "5d1c090c",
   "metadata": {},
   "outputs": [],
   "source": [
    "scaler_X = MinMaxScaler()\n",
    "scaler_y = MinMaxScaler()\n",
    "X_normalized = scaler_X.fit_transform(X)\n",
    "y_normalized = scaler_y.fit_transform(y.values.reshape(-1, 1))\n",
    "y_normalized = y_normalized.ravel()\n",
    "\n",
    "# dividing data in test and train\n",
    "\n",
    "X_train, X_test, y_train, y_test = train_test_split(X_normalized, y_normalized, test_size=0.2, random_state=42)"
   ]
  },
  {
   "cell_type": "code",
   "execution_count": 26,
   "id": "0ff14929",
   "metadata": {},
   "outputs": [
    {
     "name": "stdout",
     "output_type": "stream",
     "text": [
      "Mean Square Error: 0.0009003868804941122\n",
      "Root Mean Square Error: 0.030006447315437265\n",
      "Mean Absolut Error: 0.02045863248756496\n"
     ]
    }
   ],
   "source": [
    "model = RandomForestRegressor(n_estimators=200, random_state=42)\n",
    "\n",
    "# training the model\n",
    "\n",
    "model.fit(X_train, y_train)\n",
    "\n",
    "# predictions\n",
    "\n",
    "y_pred = model.predict(X_test)\n",
    "\n",
    "# model performance\n",
    "\n",
    "mse = mean_squared_error(y_test, y_pred)\n",
    "print('Mean Square Error:', mse)\n",
    "rmse = np.sqrt(mse)\n",
    "print('Root Mean Square Error:', rmse)\n",
    "mae = mean_absolute_error(y_test, y_pred)\n",
    "print(\"Mean Absolut Error:\", mae)"
   ]
  },
  {
   "cell_type": "code",
   "execution_count": 27,
   "id": "ca86cd2b",
   "metadata": {},
   "outputs": [],
   "source": [
    "X_test_normalized = scaler_X.transform(df_test_processed.drop('Id',axis = 1))"
   ]
  },
  {
   "cell_type": "code",
   "execution_count": 28,
   "id": "15cecb40",
   "metadata": {},
   "outputs": [],
   "source": [
    "predictions_normalized = model.predict(X_test_normalized)\n",
    "predictions_denormalized = scaler_y.inverse_transform(predictions_normalized.reshape(-1, 1))"
   ]
  },
  {
   "cell_type": "code",
   "execution_count": 29,
   "id": "8553edcf",
   "metadata": {},
   "outputs": [],
   "source": [
    "df_results = pd.DataFrame({'Id': df_test_processed['Id'], 'SalePrice': predictions_denormalized.flatten()})"
   ]
  },
  {
   "cell_type": "code",
   "execution_count": 30,
   "id": "afe72b38",
   "metadata": {},
   "outputs": [],
   "source": [
    "df_results.to_csv(r'C:\\\\Users\\cardo\\Projeto House Prices\\data\\final\\random_forest_model.csv', index = False)"
   ]
  },
  {
   "cell_type": "code",
   "execution_count": 31,
   "id": "a61badda",
   "metadata": {},
   "outputs": [
    {
     "data": {
      "text/html": [
       "<div>\n",
       "<style scoped>\n",
       "    .dataframe tbody tr th:only-of-type {\n",
       "        vertical-align: middle;\n",
       "    }\n",
       "\n",
       "    .dataframe tbody tr th {\n",
       "        vertical-align: top;\n",
       "    }\n",
       "\n",
       "    .dataframe thead th {\n",
       "        text-align: right;\n",
       "    }\n",
       "</style>\n",
       "<table border=\"1\" class=\"dataframe\">\n",
       "  <thead>\n",
       "    <tr style=\"text-align: right;\">\n",
       "      <th></th>\n",
       "      <th>Id</th>\n",
       "      <th>SalePrice</th>\n",
       "    </tr>\n",
       "  </thead>\n",
       "  <tbody>\n",
       "    <tr>\n",
       "      <th>0</th>\n",
       "      <td>1461</td>\n",
       "      <td>126386.000</td>\n",
       "    </tr>\n",
       "    <tr>\n",
       "      <th>1</th>\n",
       "      <td>1462</td>\n",
       "      <td>152849.745</td>\n",
       "    </tr>\n",
       "    <tr>\n",
       "      <th>2</th>\n",
       "      <td>1463</td>\n",
       "      <td>178494.950</td>\n",
       "    </tr>\n",
       "    <tr>\n",
       "      <th>3</th>\n",
       "      <td>1464</td>\n",
       "      <td>182760.465</td>\n",
       "    </tr>\n",
       "    <tr>\n",
       "      <th>4</th>\n",
       "      <td>1465</td>\n",
       "      <td>197767.180</td>\n",
       "    </tr>\n",
       "    <tr>\n",
       "      <th>...</th>\n",
       "      <td>...</td>\n",
       "      <td>...</td>\n",
       "    </tr>\n",
       "    <tr>\n",
       "      <th>1454</th>\n",
       "      <td>2915</td>\n",
       "      <td>84410.250</td>\n",
       "    </tr>\n",
       "    <tr>\n",
       "      <th>1455</th>\n",
       "      <td>2916</td>\n",
       "      <td>91761.305</td>\n",
       "    </tr>\n",
       "    <tr>\n",
       "      <th>1456</th>\n",
       "      <td>2917</td>\n",
       "      <td>154398.270</td>\n",
       "    </tr>\n",
       "    <tr>\n",
       "      <th>1457</th>\n",
       "      <td>2918</td>\n",
       "      <td>107887.500</td>\n",
       "    </tr>\n",
       "    <tr>\n",
       "      <th>1458</th>\n",
       "      <td>2919</td>\n",
       "      <td>223383.750</td>\n",
       "    </tr>\n",
       "  </tbody>\n",
       "</table>\n",
       "<p>1459 rows × 2 columns</p>\n",
       "</div>"
      ],
      "text/plain": [
       "        Id   SalePrice\n",
       "0     1461  126386.000\n",
       "1     1462  152849.745\n",
       "2     1463  178494.950\n",
       "3     1464  182760.465\n",
       "4     1465  197767.180\n",
       "...    ...         ...\n",
       "1454  2915   84410.250\n",
       "1455  2916   91761.305\n",
       "1456  2917  154398.270\n",
       "1457  2918  107887.500\n",
       "1458  2919  223383.750\n",
       "\n",
       "[1459 rows x 2 columns]"
      ]
     },
     "execution_count": 31,
     "metadata": {},
     "output_type": "execute_result"
    }
   ],
   "source": [
    "df_results"
   ]
  },
  {
   "cell_type": "code",
   "execution_count": 32,
   "id": "bd72a1ba",
   "metadata": {},
   "outputs": [
    {
     "data": {
      "text/plain": [
       "['C:\\\\\\\\Users\\\\cardo\\\\Projeto House Prices\\\\models\\\\random_forest_model.pkl']"
      ]
     },
     "execution_count": 32,
     "metadata": {},
     "output_type": "execute_result"
    }
   ],
   "source": [
    "# Saving model\n",
    "\n",
    "import joblib\n",
    "\n",
    "joblib.dump(model, r'C:\\\\Users\\cardo\\Projeto House Prices\\models\\random_forest_model.pkl')"
   ]
  },
  {
   "cell_type": "code",
   "execution_count": null,
   "id": "fb9f1170",
   "metadata": {},
   "outputs": [],
   "source": []
  }
 ],
 "metadata": {
  "kernelspec": {
   "display_name": "Python 3 (ipykernel)",
   "language": "python",
   "name": "python3"
  },
  "language_info": {
   "codemirror_mode": {
    "name": "ipython",
    "version": 3
   },
   "file_extension": ".py",
   "mimetype": "text/x-python",
   "name": "python",
   "nbconvert_exporter": "python",
   "pygments_lexer": "ipython3",
   "version": "3.10.9"
  }
 },
 "nbformat": 4,
 "nbformat_minor": 5
}
