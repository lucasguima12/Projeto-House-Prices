{
 "cells": [
  {
   "cell_type": "code",
   "execution_count": 79,
   "id": "529d986c",
   "metadata": {},
   "outputs": [],
   "source": [
    "import matplotlib.pyplot as plt\n",
    "import pandas as pd\n",
    "import seaborn as sns"
   ]
  },
  {
   "cell_type": "code",
   "execution_count": 80,
   "id": "2ecb9909",
   "metadata": {},
   "outputs": [],
   "source": [
    "train_nonull_path = r'C:\\Users\\cardo\\Projeto-House-Prices\\data\\feature\\df_train_nonull.csv'\n",
    "test_nonull_path = r'C:\\Users\\cardo\\Projeto-House-Prices\\data\\feature\\df_test_nonull.csv'"
   ]
  },
  {
   "cell_type": "code",
   "execution_count": 81,
   "id": "b7a2f5a1",
   "metadata": {},
   "outputs": [],
   "source": [
    "df_train_nonull = pd.read_csv(train_nonull_path)\n",
    "df_test_nonull = pd.read_csv(test_nonull_path)"
   ]
  },
  {
   "cell_type": "code",
   "execution_count": 82,
   "id": "48f70477",
   "metadata": {},
   "outputs": [
    {
     "data": {
      "text/plain": [
       "Index(['MSZoning', 'Street', 'Alley', 'LotShape', 'LandContour', 'Utilities',\n",
       "       'LotConfig', 'LandSlope', 'Neighborhood', 'Condition1', 'Condition2',\n",
       "       'BldgType', 'HouseStyle', 'OverallQual', 'YearBuilt', 'YearRemodAdd',\n",
       "       'RoofStyle', 'RoofMatl', 'Exterior1st', 'Exterior2nd', 'MasVnrType',\n",
       "       'MasVnrArea', 'ExterQual', 'ExterCond', 'Foundation', 'BsmtQual',\n",
       "       'BsmtCond', 'BsmtExposure', 'BsmtFinType1', 'BsmtFinType2',\n",
       "       'TotalBsmtSF', 'Heating', 'HeatingQC', 'CentralAir', 'Electrical',\n",
       "       '1stFlrSF', 'GrLivArea', 'FullBath', 'KitchenQual', 'TotRmsAbvGrd',\n",
       "       'Functional', 'Fireplaces', 'FireplaceQu', 'GarageType', 'GarageYrBlt',\n",
       "       'GarageFinish', 'GarageCars', 'GarageArea', 'GarageQual', 'GarageCond',\n",
       "       'PavedDrive', 'PoolQC', 'Fence', 'MiscFeature', 'SalePrice'],\n",
       "      dtype='object')"
      ]
     },
     "execution_count": 82,
     "metadata": {},
     "output_type": "execute_result"
    }
   ],
   "source": [
    "df_train_nonull.columns"
   ]
  },
  {
   "cell_type": "code",
   "execution_count": 83,
   "id": "09b63f85",
   "metadata": {},
   "outputs": [
    {
     "name": "stderr",
     "output_type": "stream",
     "text": [
      "C:\\Users\\cardo\\AppData\\Local\\Temp\\ipykernel_68656\\2546692126.py:1: FutureWarning: The default value of numeric_only in DataFrame.corr is deprecated. In a future version, it will default to False. Select only valid columns or specify the value of numeric_only to silence this warning.\n",
      "  correlation_matrix = df_train_nonull.corr()\n"
     ]
    }
   ],
   "source": [
    "correlation_matrix = df_train_nonull.corr()"
   ]
  },
  {
   "cell_type": "code",
   "execution_count": 84,
   "id": "fdd9dec6",
   "metadata": {},
   "outputs": [
    {
     "data": {
      "text/plain": [
       "OverallQual     0.790085\n",
       "YearBuilt       0.523274\n",
       "YearRemodAdd    0.507488\n",
       "MasVnrArea      0.477486\n",
       "TotalBsmtSF     0.613299\n",
       "1stFlrSF        0.606969\n",
       "GrLivArea       0.710073\n",
       "FullBath        0.562710\n",
       "TotRmsAbvGrd    0.536366\n",
       "Fireplaces      0.468973\n",
       "GarageYrBlt     0.261558\n",
       "GarageCars      0.639749\n",
       "GarageArea      0.622484\n",
       "SalePrice       1.000000\n",
       "Name: SalePrice, dtype: float64"
      ]
     },
     "execution_count": 84,
     "metadata": {},
     "output_type": "execute_result"
    }
   ],
   "source": [
    "correlation_matrix['SalePrice']"
   ]
  },
  {
   "cell_type": "code",
   "execution_count": 85,
   "id": "c295701f",
   "metadata": {},
   "outputs": [],
   "source": [
    "import numpy as np\n",
    "df_train_final = df_train_nonull.copy()\n",
    "df_train_final['MasVnrArea'] = np.where(df_train_nonull['MasVnrArea'] > 0, 1, 0)\n",
    "\n",
    "df_test_final = df_test_nonull.copy()\n",
    "df_test_final['MasVnrArea'] = np.where(df_test_nonull['MasVnrArea'] > 0, 1, 0)"
   ]
  },
  {
   "cell_type": "code",
   "execution_count": 86,
   "id": "bbb626fa",
   "metadata": {},
   "outputs": [
    {
     "name": "stderr",
     "output_type": "stream",
     "text": [
      "C:\\Users\\cardo\\AppData\\Local\\Temp\\ipykernel_68656\\4193578143.py:1: FutureWarning: The default value of numeric_only in DataFrame.corr is deprecated. In a future version, it will default to False. Select only valid columns or specify the value of numeric_only to silence this warning.\n",
      "  correlation_matrix = df_train_final.corr()\n"
     ]
    }
   ],
   "source": [
    "correlation_matrix = df_train_final.corr()"
   ]
  },
  {
   "cell_type": "code",
   "execution_count": 87,
   "id": "8bd5d322",
   "metadata": {},
   "outputs": [],
   "source": [
    "df_train_final.drop(['GarageArea', 'GarageYrBlt'], axis = 1, inplace = True)\n",
    "df_test_final.drop(['GarageArea', 'GarageYrBlt'], axis = 1, inplace = True)"
   ]
  },
  {
   "cell_type": "code",
   "execution_count": 88,
   "id": "8a53edd2",
   "metadata": {},
   "outputs": [
    {
     "name": "stderr",
     "output_type": "stream",
     "text": [
      "C:\\Users\\cardo\\AppData\\Local\\Temp\\ipykernel_68656\\2871833454.py:1: FutureWarning: The default value of numeric_only in DataFrame.corr is deprecated. In a future version, it will default to False. Select only valid columns or specify the value of numeric_only to silence this warning.\n",
      "  correlation_matrix = df_train_final.corr()\n"
     ]
    },
    {
     "data": {
      "text/plain": [
       "OverallQual     0.790085\n",
       "YearBuilt       0.523274\n",
       "YearRemodAdd    0.507488\n",
       "MasVnrArea      0.366355\n",
       "TotalBsmtSF     0.613299\n",
       "1stFlrSF        0.606969\n",
       "GrLivArea       0.710073\n",
       "FullBath        0.562710\n",
       "TotRmsAbvGrd    0.536366\n",
       "Fireplaces      0.468973\n",
       "GarageCars      0.639749\n",
       "SalePrice       1.000000\n",
       "Name: SalePrice, dtype: float64"
      ]
     },
     "execution_count": 88,
     "metadata": {},
     "output_type": "execute_result"
    }
   ],
   "source": [
    "correlation_matrix = df_train_final.corr()\n",
    "correlation_matrix['SalePrice']"
   ]
  },
  {
   "cell_type": "code",
   "execution_count": 89,
   "id": "359d6c4e",
   "metadata": {},
   "outputs": [
    {
     "data": {
      "text/plain": [
       "Index(['MSZoning', 'Street', 'Alley', 'LotShape', 'LandContour', 'Utilities',\n",
       "       'LotConfig', 'LandSlope', 'Neighborhood', 'Condition1', 'Condition2',\n",
       "       'BldgType', 'HouseStyle', 'RoofStyle', 'RoofMatl', 'Exterior1st',\n",
       "       'Exterior2nd', 'MasVnrType', 'ExterQual', 'ExterCond', 'Foundation',\n",
       "       'BsmtQual', 'BsmtCond', 'BsmtExposure', 'BsmtFinType1', 'BsmtFinType2',\n",
       "       'Heating', 'HeatingQC', 'CentralAir', 'Electrical', 'KitchenQual',\n",
       "       'Functional', 'FireplaceQu', 'GarageType', 'GarageFinish', 'GarageQual',\n",
       "       'GarageCond', 'PavedDrive', 'PoolQC', 'Fence', 'MiscFeature'],\n",
       "      dtype='object')"
      ]
     },
     "execution_count": 89,
     "metadata": {},
     "output_type": "execute_result"
    }
   ],
   "source": [
    "df_train_final.describe(include = 'O').columns"
   ]
  },
  {
   "cell_type": "code",
   "execution_count": 90,
   "id": "811f0c9d",
   "metadata": {},
   "outputs": [],
   "source": [
    "df_train_final['LotShape'] = df_train_final['LotShape'].replace({'Reg': 3, 'IR1': 2, 'IR2': 1, 'IR3': 0})\n",
    "df_train_final['LandContour'] = df_train_final['LandContour'].replace({'Lvl': 3, 'Bnk': 2, 'HLS': 1, 'Low': 0})\n",
    "df_train_final['Utilities'] = df_train_final['Utilities'].replace({'AllPub': 3, 'NoSewr': 2, 'NoSeWa': 1, 'ELO': 0})\n",
    "df_train_final['LandSlope'] = df_train_final['LandSlope'].replace({'Gtl': 2, 'Mod': 1, 'Sev': 0})\n",
    "df_train_final['ExterQual'] = df_train_final['ExterQual'].replace({'Ex': 4, 'Gd': 3, 'TA': 2, 'Fa': 1, 'Po': 0})\n",
    "df_train_final['ExterCond'] = df_train_final['ExterCond'].replace({'Ex': 4, 'Gd': 3, 'TA': 2, 'Fa': 1, 'Po': 0})\n",
    "df_train_final['HeatingQC'] = df_train_final['HeatingQC'].replace({'Ex': 4, 'Gd': 3, 'TA': 2, 'Fa': 1, 'Po': 0})\n",
    "df_train_final['KitchenQual'] = df_train_final['KitchenQual'].replace({'Ex': 4, 'Gd': 3, 'TA': 2, 'Fa': 1, 'Po': 0})\n",
    "df_train_final['CentralAir'] = df_train_final['CentralAir'].replace({'Y': 1, 'N': 0})\n",
    "df_train_final['FireplaceQu'] = df_train_final['FireplaceQu'].replace({'Ex': 5, 'Gd': 4, 'TA': 3, 'Fa': 2, 'Po': 1, 'none': 0})\n",
    "\n",
    "\n",
    "\n",
    "df_test_final['LotShape'] = df_test_final['LotShape'].replace({'Reg': 3, 'IR1': 2, 'IR2': 1, 'IR3': 0})\n",
    "df_test_final['LandContour'] = df_test_final['LandContour'].replace({'Lvl': 3, 'Bnk': 2, 'HLS': 1, 'Low': 0})\n",
    "df_test_final['Utilities'] = df_test_final['Utilities'].replace({'AllPub': 3, 'NoSewr': 2, 'NoSeWa': 1, 'ELO': 0})\n",
    "df_test_final['LandSlope'] = df_test_final['LandSlope'].replace({'Gtl': 2, 'Mod': 1, 'Sev': 0})\n",
    "df_test_final['ExterQual'] = df_test_final['ExterQual'].replace({'Ex': 4, 'Gd': 3, 'TA': 2, 'Fa': 1, 'Po': 0})\n",
    "df_test_final['ExterCond'] = df_test_final['ExterCond'].replace({'Ex': 4, 'Gd': 3, 'TA': 2, 'Fa': 1, 'Po': 0})\n",
    "df_test_final['HeatingQC'] = df_test_final['HeatingQC'].replace({'Ex': 4, 'Gd': 3, 'TA': 2, 'Fa': 1, 'Po': 0})\n",
    "df_test_final['KitchenQual'] = df_test_final['KitchenQual'].replace({'Ex': 4, 'Gd': 3, 'TA': 2, 'Fa': 1, 'Po': 0})\n",
    "df_test_final['CentralAir'] = df_test_final['CentralAir'].replace({'Y': 1, 'N': 0})\n",
    "df_test_final['FireplaceQu'] = df_test_final['FireplaceQu'].replace({'Ex': 5, 'Gd': 4, 'TA': 3, 'Fa': 2, 'Po': 1, 'none': 0})\n",
    "\n",
    "\n",
    "# Deletando colunas\n",
    "colunas_para_deletar = ['BsmtQual', 'BsmtCond', 'BsmtExposure', 'BsmtFinType1', 'PoolQC', 'Fence', \n",
    "                        'MiscFeature', 'BsmtFinType2', 'GarageType', 'GarageFinish', 'GarageQual', 'GarageCond', 'Exterior2nd']\n",
    "df_train_final = df_train_final.drop(colunas_para_deletar, axis=1)\n",
    "df_test_final = df_test_final.drop(colunas_para_deletar, axis=1)"
   ]
  },
  {
   "cell_type": "code",
   "execution_count": 91,
   "id": "477db5e1",
   "metadata": {},
   "outputs": [
    {
     "name": "stderr",
     "output_type": "stream",
     "text": [
      "C:\\Users\\cardo\\AppData\\Local\\Temp\\ipykernel_68656\\2871833454.py:1: FutureWarning: The default value of numeric_only in DataFrame.corr is deprecated. In a future version, it will default to False. Select only valid columns or specify the value of numeric_only to silence this warning.\n",
      "  correlation_matrix = df_train_final.corr()\n"
     ]
    },
    {
     "data": {
      "text/plain": [
       "LotShape       -0.271595\n",
       "LandContour    -0.074561\n",
       "Utilities       0.014284\n",
       "LandSlope      -0.052252\n",
       "OverallQual     0.790085\n",
       "YearBuilt       0.523274\n",
       "YearRemodAdd    0.507488\n",
       "MasVnrArea      0.366355\n",
       "ExterQual       0.681200\n",
       "ExterCond       0.019887\n",
       "TotalBsmtSF     0.613299\n",
       "HeatingQC       0.427602\n",
       "CentralAir      0.251584\n",
       "1stFlrSF        0.606969\n",
       "GrLivArea       0.710073\n",
       "FullBath        0.562710\n",
       "KitchenQual     0.658647\n",
       "TotRmsAbvGrd    0.536366\n",
       "Fireplaces      0.468973\n",
       "FireplaceQu     0.520946\n",
       "GarageCars      0.639749\n",
       "SalePrice       1.000000\n",
       "Name: SalePrice, dtype: float64"
      ]
     },
     "execution_count": 91,
     "metadata": {},
     "output_type": "execute_result"
    }
   ],
   "source": [
    "correlation_matrix = df_train_final.corr()\n",
    "correlation_matrix['SalePrice']"
   ]
  },
  {
   "cell_type": "code",
   "execution_count": 92,
   "id": "87ad9e28",
   "metadata": {},
   "outputs": [],
   "source": [
    "from sklearn.preprocessing import LabelEncoder\n",
    "def encode_object_cols(df):\n",
    "    # Cria uma cópia do DataFrame para não modificar o original\n",
    "    df_encoded = df.copy()\n",
    "\n",
    "    # Cria um objeto LabelEncoder\n",
    "    le = LabelEncoder()\n",
    "\n",
    "    # Itera sobre todas as colunas do DataFrame\n",
    "    for col in df_encoded.columns:\n",
    "        # Se o tipo da coluna é objeto (string), faz a codificação\n",
    "        if df_encoded[col].dtype == 'object':\n",
    "            # Transforma as categorias em números\n",
    "            df_encoded[col] = le.fit_transform(df_encoded[col])\n",
    "\n",
    "    return df_encoded"
   ]
  },
  {
   "cell_type": "code",
   "execution_count": 93,
   "id": "83263010",
   "metadata": {},
   "outputs": [],
   "source": [
    "df_train_encoded = encode_object_cols(df_train_final)\n",
    "df_test_encoded = encode_object_cols(df_test_final)\n"
   ]
  },
  {
   "cell_type": "code",
   "execution_count": 94,
   "id": "ea3b10d1",
   "metadata": {},
   "outputs": [
    {
     "data": {
      "text/html": [
       "<div>\n",
       "<style scoped>\n",
       "    .dataframe tbody tr th:only-of-type {\n",
       "        vertical-align: middle;\n",
       "    }\n",
       "\n",
       "    .dataframe tbody tr th {\n",
       "        vertical-align: top;\n",
       "    }\n",
       "\n",
       "    .dataframe thead th {\n",
       "        text-align: right;\n",
       "    }\n",
       "</style>\n",
       "<table border=\"1\" class=\"dataframe\">\n",
       "  <thead>\n",
       "    <tr style=\"text-align: right;\">\n",
       "      <th></th>\n",
       "      <th>MSZoning</th>\n",
       "      <th>Street</th>\n",
       "      <th>Alley</th>\n",
       "      <th>LotShape</th>\n",
       "      <th>LandContour</th>\n",
       "      <th>Utilities</th>\n",
       "      <th>LotConfig</th>\n",
       "      <th>LandSlope</th>\n",
       "      <th>Neighborhood</th>\n",
       "      <th>Condition1</th>\n",
       "      <th>...</th>\n",
       "      <th>GrLivArea</th>\n",
       "      <th>FullBath</th>\n",
       "      <th>KitchenQual</th>\n",
       "      <th>TotRmsAbvGrd</th>\n",
       "      <th>Functional</th>\n",
       "      <th>Fireplaces</th>\n",
       "      <th>FireplaceQu</th>\n",
       "      <th>GarageCars</th>\n",
       "      <th>PavedDrive</th>\n",
       "      <th>SalePrice</th>\n",
       "    </tr>\n",
       "  </thead>\n",
       "  <tbody>\n",
       "    <tr>\n",
       "      <th>0</th>\n",
       "      <td>3</td>\n",
       "      <td>1</td>\n",
       "      <td>2</td>\n",
       "      <td>3</td>\n",
       "      <td>3</td>\n",
       "      <td>3</td>\n",
       "      <td>4</td>\n",
       "      <td>2</td>\n",
       "      <td>5</td>\n",
       "      <td>2</td>\n",
       "      <td>...</td>\n",
       "      <td>1710</td>\n",
       "      <td>2</td>\n",
       "      <td>3</td>\n",
       "      <td>8</td>\n",
       "      <td>6</td>\n",
       "      <td>0</td>\n",
       "      <td>0</td>\n",
       "      <td>2</td>\n",
       "      <td>2</td>\n",
       "      <td>208500</td>\n",
       "    </tr>\n",
       "    <tr>\n",
       "      <th>1</th>\n",
       "      <td>3</td>\n",
       "      <td>1</td>\n",
       "      <td>2</td>\n",
       "      <td>3</td>\n",
       "      <td>3</td>\n",
       "      <td>3</td>\n",
       "      <td>2</td>\n",
       "      <td>2</td>\n",
       "      <td>24</td>\n",
       "      <td>1</td>\n",
       "      <td>...</td>\n",
       "      <td>1262</td>\n",
       "      <td>2</td>\n",
       "      <td>2</td>\n",
       "      <td>6</td>\n",
       "      <td>6</td>\n",
       "      <td>1</td>\n",
       "      <td>3</td>\n",
       "      <td>2</td>\n",
       "      <td>2</td>\n",
       "      <td>181500</td>\n",
       "    </tr>\n",
       "    <tr>\n",
       "      <th>2</th>\n",
       "      <td>3</td>\n",
       "      <td>1</td>\n",
       "      <td>2</td>\n",
       "      <td>2</td>\n",
       "      <td>3</td>\n",
       "      <td>3</td>\n",
       "      <td>4</td>\n",
       "      <td>2</td>\n",
       "      <td>5</td>\n",
       "      <td>2</td>\n",
       "      <td>...</td>\n",
       "      <td>1786</td>\n",
       "      <td>2</td>\n",
       "      <td>3</td>\n",
       "      <td>6</td>\n",
       "      <td>6</td>\n",
       "      <td>1</td>\n",
       "      <td>3</td>\n",
       "      <td>2</td>\n",
       "      <td>2</td>\n",
       "      <td>223500</td>\n",
       "    </tr>\n",
       "    <tr>\n",
       "      <th>3</th>\n",
       "      <td>3</td>\n",
       "      <td>1</td>\n",
       "      <td>2</td>\n",
       "      <td>2</td>\n",
       "      <td>3</td>\n",
       "      <td>3</td>\n",
       "      <td>0</td>\n",
       "      <td>2</td>\n",
       "      <td>6</td>\n",
       "      <td>2</td>\n",
       "      <td>...</td>\n",
       "      <td>1717</td>\n",
       "      <td>1</td>\n",
       "      <td>3</td>\n",
       "      <td>7</td>\n",
       "      <td>6</td>\n",
       "      <td>1</td>\n",
       "      <td>4</td>\n",
       "      <td>3</td>\n",
       "      <td>2</td>\n",
       "      <td>140000</td>\n",
       "    </tr>\n",
       "    <tr>\n",
       "      <th>4</th>\n",
       "      <td>3</td>\n",
       "      <td>1</td>\n",
       "      <td>2</td>\n",
       "      <td>2</td>\n",
       "      <td>3</td>\n",
       "      <td>3</td>\n",
       "      <td>2</td>\n",
       "      <td>2</td>\n",
       "      <td>15</td>\n",
       "      <td>2</td>\n",
       "      <td>...</td>\n",
       "      <td>2198</td>\n",
       "      <td>2</td>\n",
       "      <td>3</td>\n",
       "      <td>9</td>\n",
       "      <td>6</td>\n",
       "      <td>1</td>\n",
       "      <td>3</td>\n",
       "      <td>3</td>\n",
       "      <td>2</td>\n",
       "      <td>250000</td>\n",
       "    </tr>\n",
       "    <tr>\n",
       "      <th>...</th>\n",
       "      <td>...</td>\n",
       "      <td>...</td>\n",
       "      <td>...</td>\n",
       "      <td>...</td>\n",
       "      <td>...</td>\n",
       "      <td>...</td>\n",
       "      <td>...</td>\n",
       "      <td>...</td>\n",
       "      <td>...</td>\n",
       "      <td>...</td>\n",
       "      <td>...</td>\n",
       "      <td>...</td>\n",
       "      <td>...</td>\n",
       "      <td>...</td>\n",
       "      <td>...</td>\n",
       "      <td>...</td>\n",
       "      <td>...</td>\n",
       "      <td>...</td>\n",
       "      <td>...</td>\n",
       "      <td>...</td>\n",
       "      <td>...</td>\n",
       "    </tr>\n",
       "    <tr>\n",
       "      <th>1446</th>\n",
       "      <td>3</td>\n",
       "      <td>1</td>\n",
       "      <td>2</td>\n",
       "      <td>3</td>\n",
       "      <td>3</td>\n",
       "      <td>3</td>\n",
       "      <td>4</td>\n",
       "      <td>2</td>\n",
       "      <td>8</td>\n",
       "      <td>2</td>\n",
       "      <td>...</td>\n",
       "      <td>1647</td>\n",
       "      <td>2</td>\n",
       "      <td>2</td>\n",
       "      <td>7</td>\n",
       "      <td>6</td>\n",
       "      <td>1</td>\n",
       "      <td>3</td>\n",
       "      <td>2</td>\n",
       "      <td>2</td>\n",
       "      <td>175000</td>\n",
       "    </tr>\n",
       "    <tr>\n",
       "      <th>1447</th>\n",
       "      <td>3</td>\n",
       "      <td>1</td>\n",
       "      <td>2</td>\n",
       "      <td>3</td>\n",
       "      <td>3</td>\n",
       "      <td>3</td>\n",
       "      <td>4</td>\n",
       "      <td>2</td>\n",
       "      <td>14</td>\n",
       "      <td>2</td>\n",
       "      <td>...</td>\n",
       "      <td>2073</td>\n",
       "      <td>2</td>\n",
       "      <td>2</td>\n",
       "      <td>7</td>\n",
       "      <td>2</td>\n",
       "      <td>2</td>\n",
       "      <td>3</td>\n",
       "      <td>2</td>\n",
       "      <td>2</td>\n",
       "      <td>210000</td>\n",
       "    </tr>\n",
       "    <tr>\n",
       "      <th>1448</th>\n",
       "      <td>3</td>\n",
       "      <td>1</td>\n",
       "      <td>2</td>\n",
       "      <td>3</td>\n",
       "      <td>3</td>\n",
       "      <td>3</td>\n",
       "      <td>4</td>\n",
       "      <td>2</td>\n",
       "      <td>6</td>\n",
       "      <td>2</td>\n",
       "      <td>...</td>\n",
       "      <td>2340</td>\n",
       "      <td>2</td>\n",
       "      <td>3</td>\n",
       "      <td>9</td>\n",
       "      <td>6</td>\n",
       "      <td>2</td>\n",
       "      <td>4</td>\n",
       "      <td>1</td>\n",
       "      <td>2</td>\n",
       "      <td>266500</td>\n",
       "    </tr>\n",
       "    <tr>\n",
       "      <th>1449</th>\n",
       "      <td>3</td>\n",
       "      <td>1</td>\n",
       "      <td>2</td>\n",
       "      <td>3</td>\n",
       "      <td>3</td>\n",
       "      <td>3</td>\n",
       "      <td>4</td>\n",
       "      <td>2</td>\n",
       "      <td>12</td>\n",
       "      <td>2</td>\n",
       "      <td>...</td>\n",
       "      <td>1078</td>\n",
       "      <td>1</td>\n",
       "      <td>3</td>\n",
       "      <td>5</td>\n",
       "      <td>6</td>\n",
       "      <td>0</td>\n",
       "      <td>0</td>\n",
       "      <td>1</td>\n",
       "      <td>2</td>\n",
       "      <td>142125</td>\n",
       "    </tr>\n",
       "    <tr>\n",
       "      <th>1450</th>\n",
       "      <td>3</td>\n",
       "      <td>1</td>\n",
       "      <td>2</td>\n",
       "      <td>3</td>\n",
       "      <td>3</td>\n",
       "      <td>3</td>\n",
       "      <td>4</td>\n",
       "      <td>2</td>\n",
       "      <td>7</td>\n",
       "      <td>2</td>\n",
       "      <td>...</td>\n",
       "      <td>1256</td>\n",
       "      <td>1</td>\n",
       "      <td>2</td>\n",
       "      <td>6</td>\n",
       "      <td>6</td>\n",
       "      <td>0</td>\n",
       "      <td>0</td>\n",
       "      <td>1</td>\n",
       "      <td>2</td>\n",
       "      <td>147500</td>\n",
       "    </tr>\n",
       "  </tbody>\n",
       "</table>\n",
       "<p>1451 rows × 40 columns</p>\n",
       "</div>"
      ],
      "text/plain": [
       "      MSZoning  Street  Alley  LotShape  LandContour  Utilities  LotConfig  \\\n",
       "0            3       1      2         3            3          3          4   \n",
       "1            3       1      2         3            3          3          2   \n",
       "2            3       1      2         2            3          3          4   \n",
       "3            3       1      2         2            3          3          0   \n",
       "4            3       1      2         2            3          3          2   \n",
       "...        ...     ...    ...       ...          ...        ...        ...   \n",
       "1446         3       1      2         3            3          3          4   \n",
       "1447         3       1      2         3            3          3          4   \n",
       "1448         3       1      2         3            3          3          4   \n",
       "1449         3       1      2         3            3          3          4   \n",
       "1450         3       1      2         3            3          3          4   \n",
       "\n",
       "      LandSlope  Neighborhood  Condition1  ...  GrLivArea  FullBath  \\\n",
       "0             2             5           2  ...       1710         2   \n",
       "1             2            24           1  ...       1262         2   \n",
       "2             2             5           2  ...       1786         2   \n",
       "3             2             6           2  ...       1717         1   \n",
       "4             2            15           2  ...       2198         2   \n",
       "...         ...           ...         ...  ...        ...       ...   \n",
       "1446          2             8           2  ...       1647         2   \n",
       "1447          2            14           2  ...       2073         2   \n",
       "1448          2             6           2  ...       2340         2   \n",
       "1449          2            12           2  ...       1078         1   \n",
       "1450          2             7           2  ...       1256         1   \n",
       "\n",
       "      KitchenQual  TotRmsAbvGrd  Functional  Fireplaces  FireplaceQu  \\\n",
       "0               3             8           6           0            0   \n",
       "1               2             6           6           1            3   \n",
       "2               3             6           6           1            3   \n",
       "3               3             7           6           1            4   \n",
       "4               3             9           6           1            3   \n",
       "...           ...           ...         ...         ...          ...   \n",
       "1446            2             7           6           1            3   \n",
       "1447            2             7           2           2            3   \n",
       "1448            3             9           6           2            4   \n",
       "1449            3             5           6           0            0   \n",
       "1450            2             6           6           0            0   \n",
       "\n",
       "      GarageCars  PavedDrive  SalePrice  \n",
       "0              2           2     208500  \n",
       "1              2           2     181500  \n",
       "2              2           2     223500  \n",
       "3              3           2     140000  \n",
       "4              3           2     250000  \n",
       "...          ...         ...        ...  \n",
       "1446           2           2     175000  \n",
       "1447           2           2     210000  \n",
       "1448           1           2     266500  \n",
       "1449           1           2     142125  \n",
       "1450           1           2     147500  \n",
       "\n",
       "[1451 rows x 40 columns]"
      ]
     },
     "execution_count": 94,
     "metadata": {},
     "output_type": "execute_result"
    }
   ],
   "source": [
    "df_train_encoded"
   ]
  },
  {
   "cell_type": "code",
   "execution_count": 95,
   "id": "cbea9564",
   "metadata": {},
   "outputs": [
    {
     "data": {
      "text/plain": [
       "MSZoning       -0.168026\n",
       "Street          0.040989\n",
       "Alley           0.140310\n",
       "LotShape       -0.271595\n",
       "LandContour    -0.074561\n",
       "Utilities       0.014284\n",
       "LotConfig      -0.069820\n",
       "LandSlope      -0.052252\n",
       "Neighborhood    0.211947\n",
       "Condition1      0.091724\n",
       "Condition2      0.007668\n",
       "BldgType       -0.085298\n",
       "HouseStyle      0.182318\n",
       "OverallQual     0.790085\n",
       "YearBuilt       0.523274\n",
       "YearRemodAdd    0.507488\n",
       "RoofStyle       0.225323\n",
       "RoofMatl        0.133491\n",
       "Exterior1st     0.102004\n",
       "MasVnrType      0.016855\n",
       "MasVnrArea      0.366355\n",
       "ExterQual       0.681200\n",
       "ExterCond       0.019887\n",
       "Foundation      0.381982\n",
       "TotalBsmtSF     0.613299\n",
       "Heating        -0.098823\n",
       "HeatingQC       0.427602\n",
       "CentralAir      0.251584\n",
       "Electrical      0.234990\n",
       "1stFlrSF        0.606969\n",
       "GrLivArea       0.710073\n",
       "FullBath        0.562710\n",
       "KitchenQual     0.658647\n",
       "TotRmsAbvGrd    0.536366\n",
       "Functional      0.117391\n",
       "Fireplaces      0.468973\n",
       "FireplaceQu     0.520946\n",
       "GarageCars      0.639749\n",
       "PavedDrive      0.231427\n",
       "SalePrice       1.000000\n",
       "Name: SalePrice, dtype: float64"
      ]
     },
     "execution_count": 95,
     "metadata": {},
     "output_type": "execute_result"
    }
   ],
   "source": [
    "correlation_matrix = df_train_encoded.corr()\n",
    "correlation_matrix['SalePrice']"
   ]
  },
  {
   "cell_type": "code",
   "execution_count": 96,
   "id": "c9a66e6f",
   "metadata": {},
   "outputs": [],
   "source": [
    "df_train_encoded = df_train_encoded.drop(['MSZoning', 'Street', 'Alley', 'LotShape', 'LandContour', 'LandSlope', 'Neighborhood',\n",
    "                                         'Condition1', 'Condition2', 'BldgType', 'HouseStyle', 'RoofStyle', 'RoofMatl',\n",
    "                                         'Exterior1st', 'MasVnrType', 'ExterCond', 'Heating', 'Functional', 'FireplaceQu',\n",
    "                                         'PavedDrive', 'Utilities', 'LotConfig', 'MasVnrArea', 'CentralAir', 'Electrical', \n",
    "                                         'Foundation'], axis = 1)\n",
    "\n",
    "df_test_encoded = df_test_encoded.drop(['MSZoning', 'Street', 'Alley', 'LotShape', 'LandContour', 'LandSlope', 'Neighborhood',\n",
    "                                         'Condition1', 'Condition2', 'BldgType', 'HouseStyle', 'RoofStyle', 'RoofMatl',\n",
    "                                         'Exterior1st', 'MasVnrType', 'ExterCond', 'Heating', 'Functional', 'FireplaceQu',\n",
    "                                         'PavedDrive', 'Utilities', 'LotConfig', 'MasVnrArea', 'CentralAir', 'Electrical', \n",
    "                                         'Foundation'], axis = 1)"
   ]
  },
  {
   "cell_type": "code",
   "execution_count": 97,
   "id": "efbc95b9",
   "metadata": {},
   "outputs": [
    {
     "data": {
      "text/plain": [
       "OverallQual     0.790085\n",
       "YearBuilt       0.523274\n",
       "YearRemodAdd    0.507488\n",
       "ExterQual       0.681200\n",
       "TotalBsmtSF     0.613299\n",
       "HeatingQC       0.427602\n",
       "1stFlrSF        0.606969\n",
       "GrLivArea       0.710073\n",
       "FullBath        0.562710\n",
       "KitchenQual     0.658647\n",
       "TotRmsAbvGrd    0.536366\n",
       "Fireplaces      0.468973\n",
       "GarageCars      0.639749\n",
       "SalePrice       1.000000\n",
       "Name: SalePrice, dtype: float64"
      ]
     },
     "execution_count": 97,
     "metadata": {},
     "output_type": "execute_result"
    }
   ],
   "source": [
    "correlation_matrix = df_train_encoded.corr()\n",
    "correlation_matrix['SalePrice']"
   ]
  },
  {
   "cell_type": "code",
   "execution_count": null,
   "id": "d11d3f13",
   "metadata": {},
   "outputs": [],
   "source": []
  },
  {
   "cell_type": "code",
   "execution_count": null,
   "id": "eceb9f05",
   "metadata": {},
   "outputs": [],
   "source": []
  },
  {
   "cell_type": "code",
   "execution_count": null,
   "id": "d6b561b3",
   "metadata": {},
   "outputs": [],
   "source": []
  },
  {
   "cell_type": "code",
   "execution_count": null,
   "id": "a7df0351",
   "metadata": {},
   "outputs": [],
   "source": []
  },
  {
   "cell_type": "code",
   "execution_count": null,
   "id": "296a389b",
   "metadata": {},
   "outputs": [],
   "source": []
  },
  {
   "cell_type": "code",
   "execution_count": null,
   "id": "93d57378",
   "metadata": {},
   "outputs": [],
   "source": []
  },
  {
   "cell_type": "code",
   "execution_count": null,
   "id": "7def2b01",
   "metadata": {},
   "outputs": [],
   "source": []
  },
  {
   "cell_type": "code",
   "execution_count": null,
   "id": "f4f5b59f",
   "metadata": {},
   "outputs": [],
   "source": []
  },
  {
   "cell_type": "code",
   "execution_count": null,
   "id": "ffa9248f",
   "metadata": {},
   "outputs": [],
   "source": []
  },
  {
   "cell_type": "code",
   "execution_count": null,
   "id": "3775e05e",
   "metadata": {},
   "outputs": [],
   "source": []
  },
  {
   "cell_type": "code",
   "execution_count": null,
   "id": "4cd40a61",
   "metadata": {},
   "outputs": [],
   "source": []
  },
  {
   "cell_type": "code",
   "execution_count": null,
   "id": "317308a2",
   "metadata": {},
   "outputs": [],
   "source": []
  }
 ],
 "metadata": {
  "kernelspec": {
   "display_name": "Python 3 (ipykernel)",
   "language": "python",
   "name": "python3"
  },
  "language_info": {
   "codemirror_mode": {
    "name": "ipython",
    "version": 3
   },
   "file_extension": ".py",
   "mimetype": "text/x-python",
   "name": "python",
   "nbconvert_exporter": "python",
   "pygments_lexer": "ipython3",
   "version": "3.10.9"
  }
 },
 "nbformat": 4,
 "nbformat_minor": 5
}
