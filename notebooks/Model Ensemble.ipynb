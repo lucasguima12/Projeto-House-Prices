{
 "cells": [
  {
   "cell_type": "code",
   "execution_count": null,
   "id": "7733da57",
   "metadata": {
    "scrolled": true
   },
   "outputs": [],
   "source": [
    "pip install mlxtend"
   ]
  },
  {
   "cell_type": "code",
   "execution_count": 1,
   "id": "cca69143",
   "metadata": {},
   "outputs": [],
   "source": [
    "import pandas as pd\n",
    "import numpy as np\n",
    "from mlxtend.regressor import StackingCVRegressor\n",
    "from sklearn.ensemble import RandomForestRegressor\n",
    "from sklearn.linear_model import Lasso\n",
    "from sklearn.model_selection import cross_val_score, train_test_split\n",
    "from sklearn.preprocessing import MinMaxScaler\n",
    "from sklearn.metrics import mean_squared_error, mean_absolute_error\n",
    "from mlxtend.regressor import StackingRegressor\n",
    "import joblib"
   ]
  },
  {
   "cell_type": "code",
   "execution_count": 2,
   "id": "0da5663e",
   "metadata": {},
   "outputs": [],
   "source": [
    "train_processed_path = r'C:\\Users\\cardo\\Projeto-House-Prices\\data\\processed\\train_processed.csv'\n",
    "test_processed_path = r'C:\\Users\\cardo\\Projeto-House-Prices\\data\\processed\\test_processed.csv'"
   ]
  },
  {
   "cell_type": "code",
   "execution_count": 3,
   "id": "a0153c7e",
   "metadata": {},
   "outputs": [],
   "source": [
    "df_train_processed = pd.read_csv(train_processed_path)\n",
    "df_test_processed = pd.read_csv(test_processed_path)"
   ]
  },
  {
   "cell_type": "code",
   "execution_count": 4,
   "id": "c5fff069",
   "metadata": {},
   "outputs": [],
   "source": [
    "X = df_train_processed.drop('SalePrice', axis=1)\n",
    "y = df_train_processed['SalePrice']"
   ]
  },
  {
   "cell_type": "code",
   "execution_count": 5,
   "id": "8ca39f60",
   "metadata": {},
   "outputs": [],
   "source": [
    "scaler_X = MinMaxScaler()\n",
    "scaler_y = MinMaxScaler()\n",
    "X_normalized = scaler_X.fit_transform(X)\n",
    "y_normalized = scaler_y.fit_transform(y.values.reshape(-1, 1))\n",
    "y_normalized = y_normalized.ravel()\n",
    "\n",
    "# dividing data in test and train\n",
    "X_train, X_test, y_train, y_test = train_test_split(X_normalized, y_normalized, test_size=0.2, random_state=42)"
   ]
  },
  {
   "cell_type": "code",
   "execution_count": 7,
   "id": "8ef808c3",
   "metadata": {},
   "outputs": [
    {
     "name": "stdout",
     "output_type": "stream",
     "text": [
      "Mean Squared Error: 0.0010470882981857524\n"
     ]
    }
   ],
   "source": [
    "# Definindo os modelos de primeiro nível\n",
    "rf = joblib.load(r'C:\\\\Users\\cardo\\Projeto-House-Prices\\models\\random_forest_model.pkl')\n",
    "lr = joblib.load(r'C:\\\\Users\\cardo\\Projeto-House-Prices\\models\\linear_regression_model.pkl')\n",
    "lasso = joblib.load(r'C:\\\\Users\\cardo\\Projeto-House-Prices\\models\\lasso_model.pkl')\n",
    "svm = joblib.load(r'C:\\\\Users\\cardo\\Projeto-House-Prices\\models\\svm_model.pkl')\n",
    "xgb_model = joblib.load(r'C:\\\\Users\\cardo\\Projeto-House-Prices\\models\\XGBoost_model.pkl')\n",
    "\n",
    "\n",
    "\n",
    "# Definindo o modelo de segundo nível (meta-modelo)\n",
    "# Nesse caso, usaremos um regressor linear, mas poderia ser qualquer modelo\n",
    "\n",
    "\n",
    "meta_model = joblib.load(r'C:\\\\Users\\cardo\\Projeto-House-Prices\\models\\linear_regression_model.pkl')\n",
    "# crie o modelo de ensemble de stacking\n",
    "model = StackingRegressor(regressors=[rf, lr, lasso, svm, xgb_model], meta_regressor=meta_model)\n",
    "\n",
    "# treine o modelo\n",
    "model.fit(X_train, y_train)\n",
    "\n",
    "# faça previsões com o conjunto de teste\n",
    "predictions = model.predict(X_test)\n",
    "\n",
    "# avalie o modelo\n",
    "mse = mean_squared_error(y_test, predictions)\n",
    "print(f'Mean Squared Error: {mse}')"
   ]
  },
  {
   "cell_type": "code",
   "execution_count": null,
   "id": "3d1840d3",
   "metadata": {},
   "outputs": [],
   "source": [
    "X_test_normalized = scaler_X.transform(df_test_processed.drop('Id',axis = 1))"
   ]
  },
  {
   "cell_type": "code",
   "execution_count": null,
   "id": "e8727d85",
   "metadata": {},
   "outputs": [],
   "source": [
    "predictions_normalized = lasso.predict(X_test_normalized)\n",
    "predictions_denormalized = scaler_y.inverse_transform(predictions_normalized.reshape(-1, 1))"
   ]
  },
  {
   "cell_type": "code",
   "execution_count": null,
   "id": "c46370ab",
   "metadata": {},
   "outputs": [],
   "source": [
    "df_results = pd.DataFrame({'Id': df_test_processed['Id'], 'SalePrice': predictions_denormalized.flatten()})"
   ]
  },
  {
   "cell_type": "code",
   "execution_count": null,
   "id": "f8d2d2a2",
   "metadata": {},
   "outputs": [],
   "source": [
    "df_results.to_csv(r'C:\\\\Users\\cardo\\Projeto House Prices\\data\\final\\ensemble_model.csv', index = False)"
   ]
  },
  {
   "cell_type": "code",
   "execution_count": null,
   "id": "f9d5c443",
   "metadata": {},
   "outputs": [],
   "source": [
    "df_results"
   ]
  },
  {
   "cell_type": "code",
   "execution_count": null,
   "id": "b9af6e9d",
   "metadata": {},
   "outputs": [],
   "source": []
  }
 ],
 "metadata": {
  "kernelspec": {
   "display_name": "Python 3 (ipykernel)",
   "language": "python",
   "name": "python3"
  },
  "language_info": {
   "codemirror_mode": {
    "name": "ipython",
    "version": 3
   },
   "file_extension": ".py",
   "mimetype": "text/x-python",
   "name": "python",
   "nbconvert_exporter": "python",
   "pygments_lexer": "ipython3",
   "version": "3.10.9"
  }
 },
 "nbformat": 4,
 "nbformat_minor": 5
}
