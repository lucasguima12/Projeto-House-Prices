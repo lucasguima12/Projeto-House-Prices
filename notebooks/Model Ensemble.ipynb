{
 "cells": [
  {
   "cell_type": "code",
   "execution_count": 1,
   "id": "7733da57",
   "metadata": {
    "scrolled": true
   },
   "outputs": [
    {
     "name": "stdout",
     "output_type": "stream",
     "text": [
      "Requirement already satisfied: mlxtend in c:\\users\\cardo\\anaconda3\\lib\\site-packages (0.22.0)\n",
      "Requirement already satisfied: setuptools in c:\\users\\cardo\\anaconda3\\lib\\site-packages (from mlxtend) (65.6.3)\n",
      "Requirement already satisfied: matplotlib>=3.0.0 in c:\\users\\cardo\\anaconda3\\lib\\site-packages (from mlxtend) (3.7.0)\n",
      "Requirement already satisfied: pandas>=0.24.2 in c:\\users\\cardo\\anaconda3\\lib\\site-packages (from mlxtend) (1.5.3)\n",
      "Requirement already satisfied: scipy>=1.2.1 in c:\\users\\cardo\\anaconda3\\lib\\site-packages (from mlxtend) (1.10.0)\n",
      "Requirement already satisfied: joblib>=0.13.2 in c:\\users\\cardo\\anaconda3\\lib\\site-packages (from mlxtend) (1.1.1)\n",
      "Requirement already satisfied: numpy>=1.16.2 in c:\\users\\cardo\\anaconda3\\lib\\site-packages (from mlxtend) (1.23.5)\n",
      "Requirement already satisfied: scikit-learn>=1.0.2 in c:\\users\\cardo\\anaconda3\\lib\\site-packages (from mlxtend) (1.2.1)\n",
      "Requirement already satisfied: pyparsing>=2.3.1 in c:\\users\\cardo\\anaconda3\\lib\\site-packages (from matplotlib>=3.0.0->mlxtend) (3.0.9)\n",
      "Requirement already satisfied: fonttools>=4.22.0 in c:\\users\\cardo\\anaconda3\\lib\\site-packages (from matplotlib>=3.0.0->mlxtend) (4.25.0)\n",
      "Requirement already satisfied: contourpy>=1.0.1 in c:\\users\\cardo\\anaconda3\\lib\\site-packages (from matplotlib>=3.0.0->mlxtend) (1.0.5)\n",
      "Requirement already satisfied: kiwisolver>=1.0.1 in c:\\users\\cardo\\anaconda3\\lib\\site-packages (from matplotlib>=3.0.0->mlxtend) (1.4.4)\n",
      "Requirement already satisfied: packaging>=20.0 in c:\\users\\cardo\\anaconda3\\lib\\site-packages (from matplotlib>=3.0.0->mlxtend) (22.0)\n",
      "Requirement already satisfied: python-dateutil>=2.7 in c:\\users\\cardo\\anaconda3\\lib\\site-packages (from matplotlib>=3.0.0->mlxtend) (2.8.2)\n",
      "Requirement already satisfied: cycler>=0.10 in c:\\users\\cardo\\anaconda3\\lib\\site-packages (from matplotlib>=3.0.0->mlxtend) (0.11.0)\n",
      "Requirement already satisfied: pillow>=6.2.0 in c:\\users\\cardo\\anaconda3\\lib\\site-packages (from matplotlib>=3.0.0->mlxtend) (9.4.0)\n",
      "Requirement already satisfied: pytz>=2020.1 in c:\\users\\cardo\\anaconda3\\lib\\site-packages (from pandas>=0.24.2->mlxtend) (2022.7)\n",
      "Requirement already satisfied: threadpoolctl>=2.0.0 in c:\\users\\cardo\\anaconda3\\lib\\site-packages (from scikit-learn>=1.0.2->mlxtend) (2.2.0)\n",
      "Requirement already satisfied: six>=1.5 in c:\\users\\cardo\\anaconda3\\lib\\site-packages (from python-dateutil>=2.7->matplotlib>=3.0.0->mlxtend) (1.16.0)\n",
      "Note: you may need to restart the kernel to use updated packages.\n"
     ]
    }
   ],
   "source": [
    "pip install mlxtend"
   ]
  },
  {
   "cell_type": "code",
   "execution_count": 39,
   "id": "cca69143",
   "metadata": {},
   "outputs": [],
   "source": [
    "import pandas as pd\n",
    "import numpy as np\n",
    "from mlxtend.regressor import StackingCVRegressor\n",
    "from sklearn.ensemble import RandomForestRegressor\n",
    "from sklearn.linear_model import Lasso\n",
    "from sklearn.model_selection import cross_val_score, train_test_split\n",
    "from sklearn.preprocessing import MinMaxScaler\n",
    "from sklearn.metrics import mean_squared_error, mean_absolute_error\n",
    "import joblib"
   ]
  },
  {
   "cell_type": "code",
   "execution_count": 10,
   "id": "0da5663e",
   "metadata": {},
   "outputs": [],
   "source": [
    "train_processed_path = r'C:\\Users\\cardo\\Projeto House Prices\\data\\processed\\train_processed.csv'\n",
    "test_processed_path = r'C:\\Users\\cardo\\Projeto House Prices\\data\\processed\\test_processed.csv'"
   ]
  },
  {
   "cell_type": "code",
   "execution_count": 11,
   "id": "a0153c7e",
   "metadata": {},
   "outputs": [],
   "source": [
    "df_train_processed = pd.read_csv(train_processed_path)\n",
    "df_test_processed = pd.read_csv(test_processed_path)"
   ]
  },
  {
   "cell_type": "code",
   "execution_count": 12,
   "id": "c5fff069",
   "metadata": {},
   "outputs": [],
   "source": [
    "X = df_train_processed.drop('SalePrice', axis=1)\n",
    "y = df_train_processed['SalePrice']"
   ]
  },
  {
   "cell_type": "code",
   "execution_count": 17,
   "id": "8ca39f60",
   "metadata": {},
   "outputs": [],
   "source": [
    "scaler_X = MinMaxScaler()\n",
    "scaler_y = MinMaxScaler()\n",
    "X_normalized = scaler_X.fit_transform(X)\n",
    "y_normalized = scaler_y.fit_transform(y.values.reshape(-1, 1))\n",
    "y_normalized = y_normalized.ravel()\n",
    "\n",
    "# dividing data in test and train\n",
    "\n",
    "X_train, X_test, y_train, y_test = train_test_split(X_normalized, y_normalized, test_size=0.2, random_state=42)"
   ]
  },
  {
   "cell_type": "code",
   "execution_count": 46,
   "id": "8ef808c3",
   "metadata": {},
   "outputs": [
    {
     "name": "stdout",
     "output_type": "stream",
     "text": [
      "Mean Square Error: 0.0008623477060157421\n",
      "Root Mean Square Error: 0.029365757371737276\n",
      "Mean Absolut Error: 0.0196903804883915\n"
     ]
    }
   ],
   "source": [
    "# Definindo os modelos de primeiro nível\n",
    "lasso = joblib.load(r'C:\\\\Users\\cardo\\Projeto House Prices\\models\\lasso_model.pkl')\n",
    "svm = joblib.load(r'C:\\\\Users\\cardo\\Projeto House Prices\\models\\svm_model.pkl')\n",
    "\n",
    "\n",
    "# Definindo o modelo de segundo nível (meta-modelo)\n",
    "# Nesse caso, usaremos um regressor linear, mas poderia ser qualquer modelo\n",
    "meta_model = RandomForestRegressor()\n",
    "\n",
    "# Definindo o ensemble de stacking\n",
    "stack = StackingCVRegressor(regressors=(svm, rf),\n",
    "                            meta_regressor=meta_model, \n",
    "                            cv=5,\n",
    "                            use_features_in_secondary=True)\n",
    "\n",
    "# Treinando o ensemble de stacking\n",
    "stack.fit(X_train, y_train)\n",
    "\n",
    "y_pred = stack.predict(X_test)\n",
    "\n",
    "# model perfomance\n",
    "\n",
    "mse = mean_squared_error(y_test, y_pred)\n",
    "print('Mean Square Error:', mse)\n",
    "rmse = np.sqrt(mse)\n",
    "print('Root Mean Square Error:', rmse)\n",
    "mae = mean_absolute_error(y_test, y_pred)\n",
    "print(\"Mean Absolut Error:\", mae)"
   ]
  },
  {
   "cell_type": "code",
   "execution_count": 47,
   "id": "3d1840d3",
   "metadata": {},
   "outputs": [],
   "source": [
    "X_test_normalized = scaler_X.transform(df_test_processed.drop('Id',axis = 1))"
   ]
  },
  {
   "cell_type": "code",
   "execution_count": 48,
   "id": "e8727d85",
   "metadata": {},
   "outputs": [],
   "source": [
    "predictions_normalized = lasso.predict(X_test_normalized)\n",
    "predictions_denormalized = scaler_y.inverse_transform(predictions_normalized.reshape(-1, 1))"
   ]
  },
  {
   "cell_type": "code",
   "execution_count": 49,
   "id": "c46370ab",
   "metadata": {},
   "outputs": [],
   "source": [
    "df_results = pd.DataFrame({'Id': df_test_processed['Id'], 'SalePrice': predictions_denormalized.flatten()})"
   ]
  },
  {
   "cell_type": "code",
   "execution_count": 50,
   "id": "f8d2d2a2",
   "metadata": {},
   "outputs": [],
   "source": [
    "df_results.to_csv(r'C:\\\\Users\\cardo\\Projeto House Prices\\data\\final\\ensemble_model.csv', index = False)"
   ]
  },
  {
   "cell_type": "code",
   "execution_count": 51,
   "id": "f9d5c443",
   "metadata": {},
   "outputs": [
    {
     "data": {
      "text/html": [
       "<div>\n",
       "<style scoped>\n",
       "    .dataframe tbody tr th:only-of-type {\n",
       "        vertical-align: middle;\n",
       "    }\n",
       "\n",
       "    .dataframe tbody tr th {\n",
       "        vertical-align: top;\n",
       "    }\n",
       "\n",
       "    .dataframe thead th {\n",
       "        text-align: right;\n",
       "    }\n",
       "</style>\n",
       "<table border=\"1\" class=\"dataframe\">\n",
       "  <thead>\n",
       "    <tr style=\"text-align: right;\">\n",
       "      <th></th>\n",
       "      <th>Id</th>\n",
       "      <th>SalePrice</th>\n",
       "    </tr>\n",
       "  </thead>\n",
       "  <tbody>\n",
       "    <tr>\n",
       "      <th>0</th>\n",
       "      <td>1461</td>\n",
       "      <td>104864.564607</td>\n",
       "    </tr>\n",
       "    <tr>\n",
       "      <th>1</th>\n",
       "      <td>1462</td>\n",
       "      <td>160909.052812</td>\n",
       "    </tr>\n",
       "    <tr>\n",
       "      <th>2</th>\n",
       "      <td>1463</td>\n",
       "      <td>173493.179092</td>\n",
       "    </tr>\n",
       "    <tr>\n",
       "      <th>3</th>\n",
       "      <td>1464</td>\n",
       "      <td>191085.723794</td>\n",
       "    </tr>\n",
       "    <tr>\n",
       "      <th>4</th>\n",
       "      <td>1465</td>\n",
       "      <td>194595.894494</td>\n",
       "    </tr>\n",
       "    <tr>\n",
       "      <th>...</th>\n",
       "      <td>...</td>\n",
       "      <td>...</td>\n",
       "    </tr>\n",
       "    <tr>\n",
       "      <th>1454</th>\n",
       "      <td>2915</td>\n",
       "      <td>67023.044350</td>\n",
       "    </tr>\n",
       "    <tr>\n",
       "      <th>1455</th>\n",
       "      <td>2916</td>\n",
       "      <td>71573.066811</td>\n",
       "    </tr>\n",
       "    <tr>\n",
       "      <th>1456</th>\n",
       "      <td>2917</td>\n",
       "      <td>156997.791803</td>\n",
       "    </tr>\n",
       "    <tr>\n",
       "      <th>1457</th>\n",
       "      <td>2918</td>\n",
       "      <td>124799.952523</td>\n",
       "    </tr>\n",
       "    <tr>\n",
       "      <th>1458</th>\n",
       "      <td>2919</td>\n",
       "      <td>246355.710962</td>\n",
       "    </tr>\n",
       "  </tbody>\n",
       "</table>\n",
       "<p>1459 rows × 2 columns</p>\n",
       "</div>"
      ],
      "text/plain": [
       "        Id      SalePrice\n",
       "0     1461  104864.564607\n",
       "1     1462  160909.052812\n",
       "2     1463  173493.179092\n",
       "3     1464  191085.723794\n",
       "4     1465  194595.894494\n",
       "...    ...            ...\n",
       "1454  2915   67023.044350\n",
       "1455  2916   71573.066811\n",
       "1456  2917  156997.791803\n",
       "1457  2918  124799.952523\n",
       "1458  2919  246355.710962\n",
       "\n",
       "[1459 rows x 2 columns]"
      ]
     },
     "execution_count": 51,
     "metadata": {},
     "output_type": "execute_result"
    }
   ],
   "source": [
    "df_results"
   ]
  },
  {
   "cell_type": "code",
   "execution_count": null,
   "id": "b9af6e9d",
   "metadata": {},
   "outputs": [],
   "source": []
  }
 ],
 "metadata": {
  "kernelspec": {
   "display_name": "Python 3 (ipykernel)",
   "language": "python",
   "name": "python3"
  },
  "language_info": {
   "codemirror_mode": {
    "name": "ipython",
    "version": 3
   },
   "file_extension": ".py",
   "mimetype": "text/x-python",
   "name": "python",
   "nbconvert_exporter": "python",
   "pygments_lexer": "ipython3",
   "version": "3.10.9"
  }
 },
 "nbformat": 4,
 "nbformat_minor": 5
}
